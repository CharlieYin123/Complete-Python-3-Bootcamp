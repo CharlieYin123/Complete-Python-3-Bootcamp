{
 "cells": [
  {
   "cell_type": "markdown",
   "metadata": {},
   "source": [
    "___\n",
    "\n",
    "<a href='https://www.udemy.com/user/joseportilla/'><img src='../Pierian_Data_Logo.png'/></a>\n",
    "___\n",
    "<center><em>Content Copyright by Pierian Data</em></center>"
   ]
  },
  {
   "cell_type": "markdown",
   "metadata": {},
   "source": [
    "# Milestone Project 1\n",
    "## Congratulations on making it to your first milestone!\n",
    "You've already learned a ton and are ready to work on a real project.\n",
    "\n",
    "Your assignment: Create a Tic Tac Toe game. You are free to use any IDE you like.\n",
    "\n",
    "Here are the requirements:\n",
    "\n",
    "* 2 players should be able to play the game (both sitting at the same computer)\n",
    "* The board should be printed out every time a player makes a move\n",
    "* You should be able to accept input of the player position and then place a symbol on the board\n",
    "\n",
    "Feel free to use Google to help you figure anything out (but don't just Google \"Tic Tac Toe in Python\" otherwise you won't learn anything!) Keep in mind that this project can take anywhere between several hours to several days.\n",
    "\n",
    "There are 4 Jupyter Notebooks related to this assignment:\n",
    "\n",
    "* This Assignment Notebook\n",
    "* A \"Walkthrough Steps Workbook\" Notebook\n",
    "* A \"Complete Walkthrough Solution\" Notebook\n",
    "* An \"Advanced Solution\" Notebook\n",
    "\n",
    "I encourage you to just try to start the project on your own without referencing any of the notebooks. If you get stuck, check out the next lecture which is a text lecture with helpful hints and steps. If you're still stuck after that, then check out the Walkthrough Steps Workbook, which breaks up the project in steps for you to solve. Still stuck? Then check out the Complete Walkthrough Solution video for more help on approaching the project!"
   ]
  },
  {
   "cell_type": "markdown",
   "metadata": {},
   "source": [
    "There are parts of this that will be a struggle...and that is good! I have complete faith that if you have made it this far through the course you have all the tools and knowledge to tackle this project. Remember, it's totally open book, so take your time, do a little research, and remember:\n",
    "\n",
    "## HAVE FUN!"
   ]
  },
  {
   "cell_type": "code",
   "execution_count": 17,
   "metadata": {},
   "outputs": [
    {
     "name": "stdout",
     "output_type": "stream",
     "text": [
      "Welcome to Tic Tac Toe!\n",
      "Welcome Charlie and Annie. I hope you are looking forward to defeating one another!\n",
      "Charlie to make a move! Here is the board\n",
      "['-', '-', '-']\n",
      "['-', '-', '-']\n",
      "['-', '-', '-']\n",
      "Where would you like to move? Enter the numbers corresponding to the row and column where you would like to move.\n",
      "(1, 2)\n"
     ]
    }
   ],
   "source": [
    "import random as rand\n",
    "\n",
    "def setup():\n",
    "    print(\"Welcome to Tic Tac Toe!\")\n",
    "    player1 = \"Charlie\"\n",
    "    player2 = \"Annie\"\n",
    "    # player1 = input(\"Please enter the name of the first player: \")\n",
    "    # player2 = input(\"Please enter the name of the second player: \")\n",
    "    print(f\"Welcome {player1} and {player2}. I hope you are looking forward to defeating one another!\")\n",
    "    return player1, player2\n",
    "\n",
    "def move(player,board):\n",
    "\n",
    "    print(f\"{player} to make a move! Here is the board\")\n",
    "\n",
    "    for row in board:\n",
    "        print(row)\n",
    "    \n",
    "    print(\"Where would you like to move? Enter the numbers corresponding to the row and column where you would like to move.\")\n",
    "\n",
    "def make_move(player,board):\n",
    "    row = int(input(\"Please select row number first (1,2,3): \"))\n",
    "    col = int(input(\"and then column number (1,2,3): \"))\n",
    "    if player == p1:\n",
    "        \n",
    "    return row,col\n",
    "\n",
    "def main():\n",
    "    board = [[\"-\",\"-\",\"-\"],\n",
    "             [\"-\",\"-\",\"-\"],\n",
    "             [\"-\",\"-\",\"-\"]]\n",
    "    p1, p2 = setup()\n",
    "\n",
    "    turn = rand.choice((p1,p2))\n",
    "\n",
    "    move(turn, board)\n",
    "    print(make_move(turn, board))\n",
    "    \n",
    "\n",
    "    \n",
    "\n",
    "main()"
   ]
  }
 ],
 "metadata": {
  "kernelspec": {
   "display_name": "Python 3.9.6 64-bit",
   "language": "python",
   "name": "python3"
  },
  "language_info": {
   "codemirror_mode": {
    "name": "ipython",
    "version": 3
   },
   "file_extension": ".py",
   "mimetype": "text/x-python",
   "name": "python",
   "nbconvert_exporter": "python",
   "pygments_lexer": "ipython3",
   "version": "3.9.6"
  },
  "vscode": {
   "interpreter": {
    "hash": "644ee83b2e102bce73c699210dcc1532722455bb0e7f4f871d1402f6f00a2952"
   }
  }
 },
 "nbformat": 4,
 "nbformat_minor": 1
}

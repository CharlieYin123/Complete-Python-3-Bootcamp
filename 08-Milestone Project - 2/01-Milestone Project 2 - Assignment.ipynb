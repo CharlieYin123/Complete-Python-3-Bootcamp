{
 "cells": [
  {
   "cell_type": "markdown",
   "metadata": {},
   "source": [
    "___\n",
    "\n",
    "<a href='https://www.udemy.com/user/joseportilla/'><img src='../Pierian_Data_Logo.png'/></a>\n",
    "___\n",
    "<center><em>Content Copyright by Pierian Data</em></center>"
   ]
  },
  {
   "cell_type": "markdown",
   "metadata": {},
   "source": [
    "# Milestone Project 2 - Blackjack Game\n",
    "In this milestone project you will be creating a Complete BlackJack Card Game in Python.\n",
    "\n",
    "Here are the requirements:\n",
    "\n",
    "* You need to create a simple text-based [BlackJack](https://en.wikipedia.org/wiki/Blackjack) game\n",
    "* The game needs to have one player versus an automated dealer.\n",
    "* The player can stand or hit.\n",
    "* The player must be able to pick their betting amount.\n",
    "* You need to keep track of the player's total money.\n",
    "* You need to alert the player of wins, losses, or busts, etc...\n",
    "\n",
    "And most importantly:\n",
    "\n",
    "* **You must use OOP and classes in some portion of your game. You can not just use functions in your game. Use classes to help you define the Deck and the Player's hand. There are many right ways to do this, so explore it well!**\n",
    "\n",
    "\n",
    "Feel free to expand this game. Try including multiple players. Try adding in Double-Down and card splits! Remember to you are free to use any resources you want and as always:\n",
    "\n",
    "# HAVE FUN!"
   ]
  },
  {
   "cell_type": "code",
   "execution_count": 36,
   "metadata": {},
   "outputs": [
    {
     "name": "stdout",
     "output_type": "stream",
     "text": [
      "[11, 2, 7, 8, 13, 3, 6, 12, 13, 5]\n",
      "11\n",
      "[2, 7, 8, 13, 3, 6, 12, 13, 5, 6]\n"
     ]
    }
   ],
   "source": [
    "import random as rand\n",
    "\n",
    "class Player:\n",
    "    \n",
    "    def __init__(self, name, balance):\n",
    "        self.name = name\n",
    "        self.balance = balance\n",
    "\n",
    "    def bet(self, bet):\n",
    "        self.balance -= bet\n",
    "\n",
    "    def win(self, bet, winType = \"Normal\"):\n",
    "        ## If player wins with blackjack then they get double their money in return plus their inital bet amount\n",
    "        if winType == \"BJ\":\n",
    "            self.balance += bet*3\n",
    "        else:\n",
    "            self.balance += bet*2\n",
    "\n",
    "\n",
    "class Moves:\n",
    "    def __init__():\n",
    "        return\n",
    "\n",
    "\n",
    "class Deck:\n",
    "    def __init__(self, numDecks):\n",
    "        self.numDecks = numDecks\n",
    "        self.intialDeck = [0,1,2,3,4,5,6,7,8,9,10,11,12,13] * numDecks\n",
    "        self.randomDeck = []\n",
    "\n",
    "    def shuffleDeck(self):\n",
    "        return rand.shuffle(self.intialDeck)\n",
    "        \n",
    "    def dealCard(self):\n",
    "        dealtCard = self.intialDeck[0]\n",
    "        del self.intialDeck[0]\n",
    "        return dealtCard\n",
    "\n",
    "\n",
    "    \n",
    "\n",
    "\n",
    "charlie = Player(\"Charlie\", 2000)\n",
    "\n",
    "deck = Deck(2)\n",
    "\n",
    "deck.shuffleDeck()\n",
    "\n",
    "print(deck.intialDeck[:10])\n",
    "\n",
    "print(deck.dealCard())\n",
    "\n",
    "print(deck.intialDeck[:10])\n",
    "\n",
    "\n"
   ]
  }
 ],
 "metadata": {
  "kernelspec": {
   "display_name": "Python 3.9.6 64-bit",
   "language": "python",
   "name": "python3"
  },
  "language_info": {
   "codemirror_mode": {
    "name": "ipython",
    "version": 3
   },
   "file_extension": ".py",
   "mimetype": "text/x-python",
   "name": "python",
   "nbconvert_exporter": "python",
   "pygments_lexer": "ipython3",
   "version": "3.9.6"
  },
  "vscode": {
   "interpreter": {
    "hash": "644ee83b2e102bce73c699210dcc1532722455bb0e7f4f871d1402f6f00a2952"
   }
  }
 },
 "nbformat": 4,
 "nbformat_minor": 1
}
